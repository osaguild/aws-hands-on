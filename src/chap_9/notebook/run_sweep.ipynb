{
 "cells": [
  {
   "cell_type": "code",
   "execution_count": 1,
   "id": "5ca899c9",
   "metadata": {},
   "outputs": [],
   "source": [
    "import boto3\n",
    "import argparse"
   ]
  },
  {
   "cell_type": "code",
   "execution_count": 2,
   "id": "4d50e96d",
   "metadata": {},
   "outputs": [],
   "source": [
    "# # Optional: Set AWS credentials\n",
    "# # To use this cell, comment out all lines\n",
    "\n",
    "# # Alternatively, if your AWS credential is defined in ~/.aws/credentials\n",
    "# # you can use `profile_name` parameter in submit_job() function\n",
    "\n",
    "# import os, getpass\n",
    "# os.environ[\"AWS_ACCESS_KEY_ID\"] = getpass.getpass(\"Enter aws access key ID \")\n",
    "# os.environ[\"AWS_SECRET_ACCESS_KEY\"] = getpass.getpass(\"Enter aws secret access key \")\n",
    "# os.environ[\"AWS_DEFAULT_REGION\"] = input(\"Enter aws default region \")"
   ]
  },
  {
   "cell_type": "code",
   "execution_count": 3,
   "id": "a24c0e2b",
   "metadata": {},
   "outputs": [],
   "source": [
    "def submit_job(lr:float, momentum:float, epochs:int, profile_name=None):\n",
    "    \"\"\"\n",
    "    Submit a job to AWS Batch queue.\n",
    "    Parameters\n",
    "    ----------\n",
    "    lr: float\n",
    "        Learning rate\n",
    "    momentum: float\n",
    "    epochs: float\n",
    "        Maximum number of training epochs\n",
    "    profile_name: str\n",
    "        The profile name used to access AWS.\n",
    "        The profile is defined in `~/.aws/credentials`.\n",
    "    \"\"\"\n",
    "    if profile_name is None:\n",
    "        session = boto3.Session()\n",
    "    else:\n",
    "        session = boto3.Session(profile_name=profile_name)\n",
    "    client = session.client(\"batch\")\n",
    "    \n",
    "    title = \"lr\" + str(lr).replace(\".\", \"\") + \"_m\" + str(momentum).replace(\".\", \"\")\n",
    "    resp = client.submit_job(\n",
    "        jobName=title,\n",
    "        jobQueue=\"SimpleBatchjob-queue\",\n",
    "        jobDefinition=\"SimpleBatchjob-definition\",\n",
    "        containerOverrides={\n",
    "            \"command\": [\"--lr\", str(lr),\n",
    "                        \"--momentum\", str(momentum),\n",
    "                        \"--epochs\", str(epochs),\n",
    "                        \"--uploadS3\", \"true\"]\n",
    "        }\n",
    "    )\n",
    "    print(\"Job submitted!\")\n",
    "    print(\"job name\", resp[\"jobName\"], \"job ID\", resp[\"jobId\"])"
   ]
  },
  {
   "cell_type": "markdown",
   "id": "4c1e22f1",
   "metadata": {},
   "source": [
    "### Let's run many tasks in parallel"
   ]
  },
  {
   "cell_type": "code",
   "execution_count": 4,
   "id": "f9acb0b4",
   "metadata": {},
   "outputs": [
    {
     "name": "stdout",
     "output_type": "stream",
     "text": [
      "Job submitted!\n",
      "job name lr01_m05 job ID f4fedeec-afb4-4bfb-9ac4-7634122891a7\n",
      "Job submitted!\n",
      "job name lr01_m01 job ID 6f7571ce-e491-464f-b3a0-7f5cdd01019c\n",
      "Job submitted!\n",
      "job name lr01_m005 job ID def39095-20dd-41f4-8633-c752941c287f\n",
      "Job submitted!\n",
      "job name lr001_m05 job ID d197260b-846f-4744-ade3-114b441f68c3\n",
      "Job submitted!\n",
      "job name lr001_m01 job ID 061fae34-8475-4f5c-970d-89ca52277463\n",
      "Job submitted!\n",
      "job name lr001_m005 job ID 30f439ea-414c-4c95-af69-5d7ba81a9310\n",
      "Job submitted!\n",
      "job name lr0001_m05 job ID b6cd1a40-80aa-477f-9b35-43552196f5ad\n",
      "Job submitted!\n",
      "job name lr0001_m01 job ID 51337c84-ff5c-44ee-8e95-43ad83b51005\n",
      "Job submitted!\n",
      "job name lr0001_m005 job ID d6f7846b-8224-46bf-b1cd-16e3464eb1d8\n"
     ]
    }
   ],
   "source": [
    "for lr in [0.1, 0.01, 0.001]:\n",
    "    for m in [0.5, 0.1, 0.05]:\n",
    "        submit_job(lr, m, 100)"
   ]
  },
  {
   "cell_type": "markdown",
   "id": "59b0fc50",
   "metadata": {},
   "source": [
    "### Let's download the learning result and make plots"
   ]
  },
  {
   "cell_type": "code",
   "execution_count": 5,
   "id": "b0cfa247",
   "metadata": {},
   "outputs": [],
   "source": [
    "import pandas as pd\n",
    "import numpy as np\n",
    "import io\n",
    "from matplotlib import pyplot as plt"
   ]
  },
  {
   "cell_type": "code",
   "execution_count": 6,
   "id": "10928b35",
   "metadata": {},
   "outputs": [],
   "source": [
    "def read_table_from_s3(bucket_name, key, profile_name=None):\n",
    "    if profile_name is None:\n",
    "        session = boto3.Session()\n",
    "    else:\n",
    "        session = boto3.Session(profile_name=profile_name)\n",
    "    s3 = session.resource(\"s3\")\n",
    "    bucket = s3.Bucket(bucket_name)\n",
    "    \n",
    "    obj = bucket.Object(key).get().get(\"Body\")\n",
    "    df = pd.read_csv(obj)\n",
    "    \n",
    "    return df"
   ]
  },
  {
   "cell_type": "code",
   "execution_count": 8,
   "id": "1b41bf96",
   "metadata": {},
   "outputs": [],
   "source": [
    "#### Remember to replace bucket name with your own name! ####\n",
    "bucket_name = \"simplebatch-bucket43879c71-mbqaltx441fu\"\n",
    "\n",
    "grid = np.zeros((3,3))\n",
    "for (i, lr) in enumerate([0.1, 0.01, 0.001]):\n",
    "    for (j, m) in enumerate([0.5, 0.1, 0.05]):\n",
    "        key = f\"metrics_lr{lr:0.4f}_m{m:0.4f}.csv\"\n",
    "        df = read_table_from_s3(bucket_name, key)\n",
    "        grid[i,j] = df[\"val_accuracy\"].max()"
   ]
  },
  {
   "cell_type": "code",
   "execution_count": 9,
   "id": "088990a3",
   "metadata": {},
   "outputs": [
    {
     "data": {
      "text/plain": [
       "<matplotlib.colorbar.Colorbar at 0x7f22d9607670>"
      ]
     },
     "execution_count": 9,
     "metadata": {},
     "output_type": "execute_result"
    },
    {
     "data": {
      "image/png": "[encoded data removed]",
      "text/plain": [
       "<Figure size 432x432 with 2 Axes>"
      ]
     },
     "metadata": {
      "needs_background": "light"
     },
     "output_type": "display_data"
    }
   ],
   "source": [
    "fig, ax = plt.subplots(figsize=(6,6))\n",
    "ax.set_aspect('equal')\n",
    "\n",
    "c = ax.pcolor(grid, edgecolors='w', linewidths=2)\n",
    "\n",
    "for i in range(3):\n",
    "    for j in range(3):\n",
    "        text = ax.text(j+0.5, i+0.5, f\"{grid[i, j]:0.1f}\",\n",
    "                       ha=\"center\", va=\"center\", color=\"w\")\n",
    "\n",
    "ax.set_title(\"Val accuracy\")\n",
    "ax.set_xticks([0.5,1.5,2.5])\n",
    "ax.set_xticklabels([0.5, 0.1, 0.05])\n",
    "ax.set_xlabel(\"Momentum\")\n",
    "ax.set_yticks([0.5,1.5,2.5])\n",
    "ax.set_yticklabels([0.1, 0.01, 0.001])\n",
    "ax.set_ylabel(\"Learning rate\")\n",
    "\n",
    "ax.set_frame_on(False)\n",
    "fig.colorbar(c, ax=ax)"
   ]
  },
  {
   "cell_type": "code",
   "execution_count": null,
   "id": "5a0c7824",
   "metadata": {},
   "outputs": [],
   "source": []
  }
 ],
 "metadata": {
  "kernelspec": {
   "display_name": "Python 3",
   "language": "python",
   "name": "python3"
  },
  "language_info": {
   "codemirror_mode": {
    "name": "ipython",
    "version": 3
   },
   "file_extension": ".py",
   "mimetype": "text/x-python",
   "name": "python",
   "nbconvert_exporter": "python",
   "pygments_lexer": "ipython3",
   "version": "3.8.5"
  }
 },
 "nbformat": 4,
 "nbformat_minor": 5
}
