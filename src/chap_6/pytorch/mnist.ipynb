{
 "cells": [
  {
   "cell_type": "code",
   "execution_count": 1,
   "metadata": {},
   "outputs": [],
   "source": [
    "import torch\n",
    "import torch.optim as optim\n",
    "import torchvision\n",
    "from torchvision import datasets, transforms\n",
    "from matplotlib import pyplot as plt\n",
    "\n",
    "# custom functions and classes\n",
    "from simple_mnist import Model, train, evaluate"
   ]
  },
  {
   "cell_type": "markdown",
   "metadata": {},
   "source": [
    "### Step 1:Load the train and test data"
   ]
  },
  {
   "cell_type": "code",
   "execution_count": 2,
   "metadata": {},
   "outputs": [],
   "source": [
    "transf = transforms.Compose([transforms.ToTensor(),\n",
    "                             transforms.Normalize((0.1307,), (0.3081,))])\n",
    "\n",
    "trainset = datasets.MNIST(root='./data', train=True, download=True, transform=transf)\n",
    "trainloader = torch.utils.data.DataLoader(trainset, batch_size=64, shuffle=True)\n",
    "\n",
    "testset = datasets.MNIST(root='./data', train=False, download=True, transform=transf)\n",
    "testloader = torch.utils.data.DataLoader(testset, batch_size=1000, shuffle=True)"
   ]
  },
  {
   "cell_type": "markdown",
   "metadata": {},
   "source": [
    "### Step 2:  Let's visualize the MNIST data!"
   ]
  },
  {
   "cell_type": "code",
   "execution_count": 3,
   "metadata": {},
   "outputs": [
    {
     "name": "stdout",
     "output_type": "stream",
     "text": [
      "Example data size: torch.Size([1000, 1, 28, 28])\n"
     ]
    },
    {
     "data": {
      "image/png": "[encoded data removed]",
      "text/plain": [
       "<Figure size 720x288 with 10 Axes>"
      ]
     },
     "metadata": {},
     "output_type": "display_data"
    }
   ],
   "source": [
    "examples = iter(testloader)\n",
    "example_data, example_targets = examples.next()\n",
    "\n",
    "print(\"Example data size:\", example_data.shape)\n",
    "\n",
    "fig = plt.figure(figsize=(10,4))\n",
    "for i in range(10):\n",
    "    plt.subplot(2,5,i+1)\n",
    "    plt.tight_layout()\n",
    "    plt.imshow(example_data[i][0], cmap='gray', interpolation='none')\n",
    "    plt.title(\"Ground Truth: {}\".format(example_targets[i]))\n",
    "    plt.xticks([])\n",
    "    plt.yticks([])\n",
    "plt.show()"
   ]
  },
  {
   "cell_type": "markdown",
   "metadata": {},
   "source": [
    "### Step 3: Load CNN model"
   ]
  },
  {
   "cell_type": "code",
   "execution_count": 4,
   "metadata": {},
   "outputs": [
    {
     "data": {
      "text/plain": [
       "Model(\n",
       "  (conv1): Conv2d(1, 32, kernel_size=(3, 3), stride=(1, 1))\n",
       "  (conv2): Conv2d(32, 64, kernel_size=(3, 3), stride=(1, 1))\n",
       "  (dropout1): Dropout2d(p=0.25, inplace=False)\n",
       "  (dropout2): Dropout2d(p=0.5, inplace=False)\n",
       "  (fc1): Linear(in_features=9216, out_features=128, bias=True)\n",
       "  (fc2): Linear(in_features=128, out_features=10, bias=True)\n",
       ")"
      ]
     },
     "execution_count": 4,
     "metadata": {},
     "output_type": "execute_result"
    }
   ],
   "source": [
    "model = Model()\n",
    "model.to(\"cuda\") # load to GPU"
   ]
  },
  {
   "cell_type": "markdown",
   "metadata": {},
   "source": [
    "### Step 4: Define optimizer"
   ]
  },
  {
   "cell_type": "code",
   "execution_count": 5,
   "metadata": {},
   "outputs": [],
   "source": [
    "optimizer = optim.SGD(model.parameters(), lr=0.01, momentum=0.5)"
   ]
  },
  {
   "cell_type": "markdown",
   "metadata": {},
   "source": [
    "### Step 5: Train the network"
   ]
  },
  {
   "cell_type": "code",
   "execution_count": 6,
   "metadata": {
    "scrolled": false
   },
   "outputs": [
    {
     "name": "stdout",
     "output_type": "stream",
     "text": [
      "Train Epoch: 0 [0/48000 (0.0%)]\tLoss: 2.296995\n",
      "Train Epoch: 0 [6400/48000 (13.3%)]\tLoss: 0.434678\n",
      "Train Epoch: 0 [12800/48000 (26.7%)]\tLoss: 0.374718\n",
      "Train Epoch: 0 [19200/48000 (40.0%)]\tLoss: 0.436945\n",
      "Train Epoch: 0 [25600/48000 (53.3%)]\tLoss: 0.198269\n",
      "Train Epoch: 0 [32000/48000 (66.7%)]\tLoss: 0.422885\n",
      "Train Epoch: 0 [38400/48000 (80.0%)]\tLoss: 0.257064\n",
      "Train Epoch: 0 [44800/48000 (93.3%)]\tLoss: 0.341485\n",
      "\n",
      "Test set: Average loss: 0.1910, Accuracy: 94.1%\n",
      "\n",
      "Train Epoch: 1 [0/48000 (0.0%)]\tLoss: 0.371583\n",
      "Train Epoch: 1 [6400/48000 (13.3%)]\tLoss: 0.233293\n",
      "Train Epoch: 1 [12800/48000 (26.7%)]\tLoss: 0.365222\n",
      "Train Epoch: 1 [19200/48000 (40.0%)]\tLoss: 0.266434\n",
      "Train Epoch: 1 [25600/48000 (53.3%)]\tLoss: 0.127200\n",
      "Train Epoch: 1 [32000/48000 (66.7%)]\tLoss: 0.456140\n",
      "Train Epoch: 1 [38400/48000 (80.0%)]\tLoss: 0.235001\n",
      "Train Epoch: 1 [44800/48000 (93.3%)]\tLoss: 0.192070\n",
      "\n",
      "Test set: Average loss: 0.1163, Accuracy: 96.5%\n",
      "\n",
      "Train Epoch: 2 [0/48000 (0.0%)]\tLoss: 0.130175\n",
      "Train Epoch: 2 [6400/48000 (13.3%)]\tLoss: 0.141027\n",
      "Train Epoch: 2 [12800/48000 (26.7%)]\tLoss: 0.249230\n",
      "Train Epoch: 2 [19200/48000 (40.0%)]\tLoss: 0.221236\n",
      "Train Epoch: 2 [25600/48000 (53.3%)]\tLoss: 0.217197\n",
      "Train Epoch: 2 [32000/48000 (66.7%)]\tLoss: 0.121173\n",
      "Train Epoch: 2 [38400/48000 (80.0%)]\tLoss: 0.323896\n",
      "Train Epoch: 2 [44800/48000 (93.3%)]\tLoss: 0.308622\n",
      "\n",
      "Test set: Average loss: 0.0871, Accuracy: 97.2%\n",
      "\n",
      "Train Epoch: 3 [0/48000 (0.0%)]\tLoss: 0.082041\n",
      "Train Epoch: 3 [6400/48000 (13.3%)]\tLoss: 0.193426\n",
      "Train Epoch: 3 [12800/48000 (26.7%)]\tLoss: 0.099238\n",
      "Train Epoch: 3 [19200/48000 (40.0%)]\tLoss: 0.141329\n",
      "Train Epoch: 3 [25600/48000 (53.3%)]\tLoss: 0.121533\n",
      "Train Epoch: 3 [32000/48000 (66.7%)]\tLoss: 0.166566\n",
      "Train Epoch: 3 [38400/48000 (80.0%)]\tLoss: 0.068904\n",
      "Train Epoch: 3 [44800/48000 (93.3%)]\tLoss: 0.048231\n",
      "\n",
      "Test set: Average loss: 0.0690, Accuracy: 97.7%\n",
      "\n",
      "Train Epoch: 4 [0/48000 (0.0%)]\tLoss: 0.037835\n",
      "Train Epoch: 4 [6400/48000 (13.3%)]\tLoss: 0.122403\n",
      "Train Epoch: 4 [12800/48000 (26.7%)]\tLoss: 0.055269\n",
      "Train Epoch: 4 [19200/48000 (40.0%)]\tLoss: 0.072613\n",
      "Train Epoch: 4 [25600/48000 (53.3%)]\tLoss: 0.088916\n",
      "Train Epoch: 4 [32000/48000 (66.7%)]\tLoss: 0.054120\n",
      "Train Epoch: 4 [38400/48000 (80.0%)]\tLoss: 0.130425\n",
      "Train Epoch: 4 [44800/48000 (93.3%)]\tLoss: 0.107934\n",
      "\n",
      "Test set: Average loss: 0.0589, Accuracy: 98.1%\n",
      "\n"
     ]
    },
    {
     "data": {
      "image/png": "[encoded data removed]",
      "text/plain": [
       "<Figure size 504x360 with 1 Axes>"
      ]
     },
     "metadata": {
      "needs_background": "light"
     },
     "output_type": "display_data"
    }
   ],
   "source": [
    "train_losses = []\n",
    "for epoch in range(5):\n",
    "    losses = train(model, trainloader, optimizer, epoch)\n",
    "    train_losses = train_losses + losses\n",
    "    test_loss, test_accuracy = evaluate(model, testloader)\n",
    "    print(f\"\\nTest set: Average loss: {test_loss:.4f}, Accuracy: {test_accuracy:.1f}%\\n\")\n",
    "\n",
    "plt.figure(figsize=(7,5))\n",
    "plt.plot(train_losses)\n",
    "plt.xlabel(\"Iterations\")\n",
    "plt.ylabel(\"Train loss\")\n",
    "plt.show()"
   ]
  },
  {
   "cell_type": "markdown",
   "metadata": {},
   "source": [
    "### Step 6: Visualize the trained network predictions"
   ]
  },
  {
   "cell_type": "code",
   "execution_count": 7,
   "metadata": {},
   "outputs": [
    {
     "data": {
      "image/png": "[encoded data removed]",
      "text/plain": [
       "<Figure size 720x288 with 10 Axes>"
      ]
     },
     "metadata": {},
     "output_type": "display_data"
    }
   ],
   "source": [
    "model.eval()\n",
    "\n",
    "with torch.no_grad():\n",
    "    output = model(example_data.to(\"cuda\"))\n",
    "\n",
    "fig = plt.figure(figsize=(10,4))\n",
    "for i in range(10):\n",
    "    plt.subplot(2,5,i+1)\n",
    "    plt.tight_layout()\n",
    "    plt.imshow(example_data[i][0], cmap='gray', interpolation='none')\n",
    "    plt.title(\"Prediction: {}\".format(output.data.max(1, keepdim=True)[1][i].item()))\n",
    "    plt.xticks([])\n",
    "    plt.yticks([])\n",
    "plt.show()"
   ]
  },
  {
   "cell_type": "markdown",
   "metadata": {},
   "source": [
    "### Step 7: Save the trained parameters"
   ]
  },
  {
   "cell_type": "code",
   "execution_count": 8,
   "metadata": {},
   "outputs": [],
   "source": [
    "torch.save(model.state_dict(), \"mnist_cnn.pt\")"
   ]
  },
  {
   "cell_type": "code",
   "execution_count": null,
   "metadata": {},
   "outputs": [],
   "source": []
  }
 ],
 "metadata": {
  "kernelspec": {
   "display_name": "Python 3",
   "language": "python",
   "name": "python3"
  },
  "language_info": {
   "codemirror_mode": {
    "name": "ipython",
    "version": 3
   },
   "file_extension": ".py",
   "mimetype": "text/x-python",
   "name": "python",
   "nbconvert_exporter": "python",
   "pygments_lexer": "ipython3",
   "version": "3.8.5"
  }
 },
 "nbformat": 4,
 "nbformat_minor": 4
}
