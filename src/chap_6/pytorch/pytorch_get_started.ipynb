{
 "cells": [
  {
   "cell_type": "markdown",
   "metadata": {},
   "source": [
    "# PyTorch はじめの一歩"
   ]
  },
  {
   "cell_type": "code",
   "execution_count": 1,
   "metadata": {},
   "outputs": [
    {
     "name": "stdout",
     "output_type": "stream",
     "text": [
      "Is CUDA ready? True\n"
     ]
    }
   ],
   "source": [
    "import torch\n",
    "\n",
    "print(\"Is CUDA ready?\", torch.cuda.is_available())"
   ]
  },
  {
   "cell_type": "code",
   "execution_count": 2,
   "metadata": {},
   "outputs": [
    {
     "name": "stdout",
     "output_type": "stream",
     "text": [
      "tensor([[0.3052, 0.4440, 0.1633],\n",
      "        [0.3029, 0.8292, 0.1728],\n",
      "        [0.6852, 0.1654, 0.0479]])\n"
     ]
    }
   ],
   "source": [
    "# create a random array in CPU\n",
    "x = torch.rand(3,3)\n",
    "print(x)"
   ]
  },
  {
   "cell_type": "code",
   "execution_count": 3,
   "metadata": {},
   "outputs": [],
   "source": [
    "# create another array in GPU device\n",
    "y = torch.ones_like(x, device=\"cuda\")\n",
    "# move 'x' from CPU to GPU\n",
    "x = x.to(\"cuda\")"
   ]
  },
  {
   "cell_type": "code",
   "execution_count": 4,
   "metadata": {},
   "outputs": [
    {
     "name": "stdout",
     "output_type": "stream",
     "text": [
      "tensor([[1.3052, 1.4440, 1.1633],\n",
      "        [1.3029, 1.8292, 1.1728],\n",
      "        [1.6852, 1.1654, 1.0479]], device='cuda:0')\n"
     ]
    }
   ],
   "source": [
    "# run addition operation in GPU\n",
    "z = x + y\n",
    "print(z)"
   ]
  },
  {
   "cell_type": "code",
   "execution_count": 5,
   "metadata": {},
   "outputs": [
    {
     "name": "stdout",
     "output_type": "stream",
     "text": [
      "tensor([[1.3052, 1.4440, 1.1633],\n",
      "        [1.3029, 1.8292, 1.1728],\n",
      "        [1.6852, 1.1654, 1.0479]])\n"
     ]
    }
   ],
   "source": [
    "# move z from GPU to CPU\n",
    "z = z.to(\"cpu\")\n",
    "print(z)"
   ]
  },
  {
   "cell_type": "markdown",
   "metadata": {},
   "source": [
    "## ベンチマーキング (行列積)"
   ]
  },
  {
   "cell_type": "code",
   "execution_count": 11,
   "metadata": {},
   "outputs": [
    {
     "name": "stdout",
     "output_type": "stream",
     "text": [
      "CPU times: user 1min 31s, sys: 639 ms, total: 1min 32s\n",
      "Wall time: 46.2 s\n"
     ]
    }
   ],
   "source": [
    "s = 10000\n",
    "device = \"cpu\"\n",
    "x = torch.rand(s, s, device=device, dtype=torch.float32)\n",
    "y = torch.rand(s, s, device=device, dtype=torch.float32)\n",
    "%time z = torch.matmul(x,y)"
   ]
  },
  {
   "cell_type": "code",
   "execution_count": 12,
   "metadata": {},
   "outputs": [
    {
     "name": "stdout",
     "output_type": "stream",
     "text": [
      "CPU times: user 334 ms, sys: 220 ms, total: 554 ms\n",
      "Wall time: 553 ms\n"
     ]
    }
   ],
   "source": [
    "s = 10000\n",
    "device = \"cuda\"\n",
    "x = torch.rand(s, s, device=device, dtype=torch.float32)\n",
    "y = torch.rand(s, s, device=device, dtype=torch.float32)\n",
    "torch.cuda.synchronize()\n",
    "\n",
    "%time z = torch.matmul(x,y); torch.cuda.synchronize()"
   ]
  }
 ],
 "metadata": {
  "kernelspec": {
   "display_name": "Environment (conda_pytorch_p36)",
   "language": "python",
   "name": "conda_pytorch_p36"
  },
  "language_info": {
   "codemirror_mode": {
    "name": "ipython",
    "version": 3
   },
   "file_extension": ".py",
   "mimetype": "text/x-python",
   "name": "python",
   "nbconvert_exporter": "python",
   "pygments_lexer": "ipython3",
   "version": "3.6.10"
  }
 },
 "nbformat": 4,
 "nbformat_minor": 4
}
